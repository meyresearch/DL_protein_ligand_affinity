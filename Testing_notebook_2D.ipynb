{
 "cells": [
  {
   "cell_type": "markdown",
   "id": "8e43dd1f",
   "metadata": {},
   "source": [
    "### Importing Libraries"
   ]
  },
  {
   "cell_type": "code",
   "execution_count": null,
   "id": "390123a1",
   "metadata": {},
   "outputs": [],
   "source": [
    "import sys,os\n",
    "import random\n",
    "import numpy as np\n",
    "import json\n",
    "from collections import OrderedDict\n",
    "from utils import *\n",
    "from emetrics import *\n",
    "from data import create_dataset_for_train,create_dataset_for_test,create_dataset_for_test_bootstrap\n",
    "import torch\n",
    "import torch.nn as nn\n",
    "from torch_geometric.data import DataLoader\n",
    "import rdkit as rd\n",
    "from torch_sparse import SparseTensor,transpose\n",
    "import deepchem\n",
    "import tensorflow as tf\n",
    "import pandas as pd\n",
    "import pickle\n",
    "from dnn import GNNNet,GNNNet_prod,GNNNet_prod_conc"
   ]
  },
  {
   "cell_type": "markdown",
   "id": "6c83e081",
   "metadata": {},
   "source": [
    "### Loading the dataset- Davis [0] or KIBA [1]"
   ]
  },
  {
   "cell_type": "code",
   "execution_count": null,
   "id": "895d1b3e",
   "metadata": {},
   "outputs": [],
   "source": [
    "datasets = [['davis', 'kiba'][0]]\n",
    "datasets"
   ]
  },
  {
   "cell_type": "markdown",
   "id": "32f05743",
   "metadata": {},
   "source": [
    "### Select the ligand encoding method and contact map method for protein encoding"
   ]
  },
  {
   "cell_type": "code",
   "execution_count": null,
   "id": "d9dc53b1",
   "metadata": {},
   "outputs": [],
   "source": [
    "#protein contact map technique\n",
    "method=['pconsc4', 'esm_cmaps', 'alpha_fold_cmaps','rand_cmaps'][0]\n",
    "method"
   ]
  },
  {
   "cell_type": "code",
   "execution_count": null,
   "id": "04ea6791",
   "metadata": {},
   "outputs": [],
   "source": [
    "#Ligand encoding method\n",
    "method1=['original','point_random', \"random_node\",'random_sample'][0]\n",
    "method1"
   ]
  },
  {
   "cell_type": "markdown",
   "id": "47a87c1b",
   "metadata": {},
   "source": [
    "### Select the method to combine the encodings"
   ]
  },
  {
   "cell_type": "code",
   "execution_count": null,
   "id": "5a67e3b5",
   "metadata": {},
   "outputs": [],
   "source": [
    "comb=['conc','prod','conc+prod'][0]\n",
    "\n",
    "if comb=='conc':\n",
    "    model = GNNNet()\n",
    "elif comb=='prod':\n",
    "    model = GNNNet_prod()\n",
    "elif comb=='conc+prod':\n",
    "    model = GNNNet_prod_conc()"
   ]
  },
  {
   "cell_type": "markdown",
   "id": "51f18a87",
   "metadata": {},
   "source": [
    "### Test functions"
   ]
  },
  {
   "cell_type": "code",
   "execution_count": null,
   "id": "2df50254",
   "metadata": {},
   "outputs": [],
   "source": [
    "def predicting(model, device, loader):\n",
    "    model.eval()\n",
    "    total_preds = torch.Tensor()\n",
    "    total_labels = torch.Tensor()\n",
    "    print('Make prediction for {} samples...'.format(len(loader.dataset)))\n",
    "    with torch.no_grad():\n",
    "        for data in loader:\n",
    "            data_mol = data[0].to(device)\n",
    "            data_pro = data[1].to(device)\n",
    "            # data = data.to(device)\n",
    "            output = model(data_mol, data_pro)\n",
    "            total_preds = torch.cat((total_preds, output.cpu()), 0)\n",
    "            total_labels = torch.cat((total_labels, data_mol.y.view(-1, 1).cpu()), 0)\n",
    "    return total_labels.numpy().flatten(), total_preds.numpy().flatten()\n",
    "\n",
    "\n",
    "def load_model(model_path):\n",
    "    model = torch.load(model_path)\n",
    "    return model\n",
    "\n",
    "\n",
    "def calculate_metrics(Y, P, dataset,result_file_name):\n",
    "    # aupr = get_aupr(Y, P)\n",
    "    cindex = get_cindex(Y, P) \n",
    "    cindex2 = get_ci(Y, P) \n",
    "    rm2 = get_rm2(Y, P)  \n",
    "    mse = get_mse(Y, P)\n",
    "    pearson = get_pearson(Y, P)\n",
    "    spearman = get_spearman(Y, P)\n",
    "    rmse = get_rmse(Y, P)\n",
    "\n",
    "    print('metrics for ', dataset)\n",
    "    # print('aupr:', aupr)\n",
    "    print('cindex:', cindex)\n",
    "    print('cindex2', cindex2)\n",
    "    print('rm2:', rm2)\n",
    "    print('mse:', mse)\n",
    "    print('pearson', pearson)\n",
    "\n",
    "    result_file_name = result_file_name\n",
    "    result_str = ''\n",
    "    result_str += dataset + '\\r\\n'\n",
    "    result_str += 'rmse:' + str(rmse) + ' ' + ' mse:' + str(mse) + ' ' + ' pearson:' + str(\n",
    "        pearson) + ' ' + 'spearman:' + str(spearman) + ' ' + 'ci:' + str(cindex) + ' ' + 'rm2:' + str(rm2)\n",
    "    print(result_str)\n",
    "    open(result_file_name, 'w').writelines(result_str)\n",
    "\n"
   ]
  },
  {
   "cell_type": "markdown",
   "id": "f438d8a6",
   "metadata": {},
   "source": [
    "### Hyperparameter setting"
   ]
  },
  {
   "cell_type": "code",
   "execution_count": null,
   "id": "e194c382",
   "metadata": {},
   "outputs": [],
   "source": [
    "TEST_BATCH_SIZE = 128\n",
    "device = torch.device('cuda' if torch.cuda.is_available() else 'cpu')\n",
    "#If CUDA is available, else change to cpu\n",
    "cuda_name = ['cuda:0', 'cuda:1', 'cuda:2', 'cuda:3'][0]\n",
    "device = torch.device(cuda_name)\n",
    "model.to(device)"
   ]
  },
  {
   "cell_type": "code",
   "execution_count": null,
   "id": "aea76eb5",
   "metadata": {},
   "outputs": [],
   "source": [
    "#Loading the test data\n",
    "test_data = create_dataset_for_test(str(datasets),method,method1)\n",
    "test_loader = torch.utils.data.DataLoader(test_data, batch_size=TEST_BATCH_SIZE, shuffle=False,\n",
    "                                              collate_fn=collate)"
   ]
  },
  {
   "cell_type": "markdown",
   "id": "3e210318",
   "metadata": {},
   "source": [
    "### Model 1"
   ]
  },
  {
   "cell_type": "code",
   "execution_count": null,
   "id": "33510cb4",
   "metadata": {},
   "outputs": [],
   "source": [
    "#Loading the path to the trained model and setting the results path\n",
    "model_file_name = 'models/model_pconsc4_GNNNet_random_node_kiba_random_node_0.model'\n",
    "result_file_name = 'results/result_pconsc4_random_node_kiba_0'+ '.txt'\n",
    "\n",
    "model.load_state_dict(torch.load(model_file_name, map_location=cuda_name))\n",
    "\n",
    "#predictions using the trained model\n",
    "Y, P = predicting(model, device, test_loader)\n",
    "calculate_metrics(Y, P, str(datasets),result_file_name)"
   ]
  },
  {
   "cell_type": "markdown",
   "id": "e07b4736",
   "metadata": {},
   "source": [
    "### Model 2"
   ]
  },
  {
   "cell_type": "code",
   "execution_count": null,
   "id": "e3fc7761",
   "metadata": {},
   "outputs": [],
   "source": [
    "#Loading the path to the trained model and setting the results path\n",
    "model_file_name = 'models_sample/model_pconsc4_GNNNet_random_node_kiba_random_node_2.model'\n",
    "result_file_name = 'results/result_pconsc4_random_node_kiba_0'+ '.txt'\n",
    "\n",
    "model.load_state_dict(torch.load(model_file_name, map_location=cuda_name))\n",
    "\n",
    "#predictions using the trained model\n",
    "Y1, P1 = predicting(model, device, test_loader)\n",
    "calculate_metrics(Y1, P1, str(datasets),result_file_name)"
   ]
  },
  {
   "cell_type": "markdown",
   "id": "12befbe3",
   "metadata": {},
   "source": [
    "### Model 3"
   ]
  },
  {
   "cell_type": "code",
   "execution_count": null,
   "id": "3b13f94e",
   "metadata": {},
   "outputs": [],
   "source": [
    "#Loading the path to the trained model and setting the results path\n",
    "model_file_name = 'models_sample/model_pconsc4_GNNNet_random_node_kiba_random_node_3.model'\n",
    "result_file_name = 'results/result_pconsc4_random_node_kiba_0'+ '.txt'\n",
    "\n",
    "model.load_state_dict(torch.load(model_file_name, map_location=cuda_name))\n",
    "\n",
    "#predictions using the trained model\n",
    "Y2, P2 = predicting(model, device, test_loader)\n",
    "calculate_metrics(Y2, P2, str(datasets),result_file_name)"
   ]
  },
  {
   "cell_type": "markdown",
   "id": "9013185f",
   "metadata": {},
   "source": [
    "### Download model predictions"
   ]
  },
  {
   "cell_type": "code",
   "execution_count": null,
   "id": "61d864ca",
   "metadata": {},
   "outputs": [],
   "source": [
    "d = {'exp': Y, 'model1': P,'model2': P1,'model3': P2,'mean': res,'std': res1}\n",
    "df = pd.DataFrame(data=d)\n",
    "df"
   ]
  },
  {
   "cell_type": "code",
   "execution_count": null,
   "id": "7ab45d22",
   "metadata": {},
   "outputs": [],
   "source": [
    "df.to_csv('Figures/kiba_figures_data/ligand_kiba_random_node.csv', index=False)"
   ]
  },
  {
   "cell_type": "markdown",
   "id": "0bebd2d4",
   "metadata": {},
   "source": [
    "### Bootstrapping the model predictions"
   ]
  },
  {
   "cell_type": "code",
   "execution_count": null,
   "id": "5a7f7ab1",
   "metadata": {},
   "outputs": [],
   "source": [
    "# Load model predictions file\n",
    "df=pd.read_csv('Figures/davis_figures_data/ligand_kiba_random_node.csv')"
   ]
  },
  {
   "cell_type": "code",
   "execution_count": null,
   "id": "3e1b066f",
   "metadata": {},
   "outputs": [],
   "source": [
    "#bootstrapping the test data \n",
    "rmse1=[]\n",
    "pearson1=[]\n",
    "ci1=[]\n",
    "mse1=[]\n",
    "rm1=[]\n",
    "spearman1=[]\n",
    "niters=40\n",
    "\n",
    "for i in range(niters):\n",
    "    rmse1a=[]\n",
    "    pearson1a=[]\n",
    "    ci1a=[]\n",
    "    mse1a=[]\n",
    "    rm1a=[]\n",
    "    spearman1a=[]\n",
    "    df2 = df.sample(n=1000)\n",
    "    Y=np.array(df2['exp'])\n",
    "    P1=np.array(df2['model1'])\n",
    "    P2=np.array(df2['model2'])\n",
    "    P3=np.array(df2['model3'])\n",
    "    \n",
    "    cindex,pearson,rmse,mse,rm2,spearman=calculate_metrics2(Y, P1)\n",
    "    ci1a.append(cindex)\n",
    "    pearson1a.append(pearson)\n",
    "    rmse1a.append(rmse)\n",
    "    mse1a.append(mse)\n",
    "    rm1a.append(rm2)\n",
    "    spearman1a.append(spearman)\n",
    "\n",
    "    cindex,pearson,rmse,mse,rm2,spearman=calculate_metrics2(Y, P2)\n",
    "    ci1a.append(cindex)\n",
    "    pearson1a.append(pearson)\n",
    "    rmse1a.append(rmse)\n",
    "    mse1a.append(mse)\n",
    "    rm1a.append(rm2)\n",
    "    spearman1a.append(spearman)\n",
    "    \n",
    "    cindex,pearson,rmse,mse,rm2,spearman=calculate_metrics2(Y, P3)\n",
    "    ci1a.append(cindex)\n",
    "    pearson1a.append(pearson)\n",
    "    rmse1a.append(rmse)\n",
    "    mse1a.append(mse)\n",
    "    rm1a.append(rm2)\n",
    "    spearman1a.append(spearman)\n",
    "\n",
    "    \n",
    "    ci1.append(np.mean(ci1a))\n",
    "    pearson1.append(np.mean(pearson1a))\n",
    "    rmse1.append(np.mean(rmse1a))\n",
    "    mse1.append(np.mean(mse1a))\n",
    "    rm1.append(np.mean(rm1a))\n",
    "    spearman1.append(np.mean(spearman1a))"
   ]
  },
  {
   "cell_type": "code",
   "execution_count": null,
   "id": "7f45ce0d",
   "metadata": {},
   "outputs": [],
   "source": [
    "encoding=['protein/ligand encoding type']*40"
   ]
  },
  {
   "cell_type": "markdown",
   "id": "66eba917",
   "metadata": {},
   "source": [
    "### Save the results file"
   ]
  },
  {
   "cell_type": "code",
   "execution_count": null,
   "id": "cf3480f5",
   "metadata": {},
   "outputs": [],
   "source": [
    "d = {'CI': ci1, 'Pearson': pearson1,'RMSE': rmse1,'Spearman': spearman1,'encoding':encoding}\n",
    "df_res = pd.DataFrame(data=d)\n",
    "df_res"
   ]
  },
  {
   "cell_type": "code",
   "execution_count": null,
   "id": "4ea14b9e",
   "metadata": {},
   "outputs": [],
   "source": [
    "df_res.to_csv('Figures/davis_figures_data/ligand_kiba_random_node_data.csv', index=False)"
   ]
  },
  {
   "cell_type": "code",
   "execution_count": null,
   "id": "ebed4657",
   "metadata": {},
   "outputs": [],
   "source": []
  },
  {
   "cell_type": "code",
   "execution_count": null,
   "id": "843f66ed",
   "metadata": {},
   "outputs": [],
   "source": []
  }
 ],
 "metadata": {
  "kernelspec": {
   "display_name": "Python 3 (ipykernel)",
   "language": "python",
   "name": "python3"
  },
  "language_info": {
   "codemirror_mode": {
    "name": "ipython",
    "version": 3
   },
   "file_extension": ".py",
   "mimetype": "text/x-python",
   "name": "python",
   "nbconvert_exporter": "python",
   "pygments_lexer": "ipython3",
   "version": "3.8.12"
  }
 },
 "nbformat": 4,
 "nbformat_minor": 5
}
