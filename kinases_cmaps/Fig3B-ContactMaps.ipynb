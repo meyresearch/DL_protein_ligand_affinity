{
 "cells": [
  {
   "cell_type": "code",
   "execution_count": 77,
   "id": "61802dae",
   "metadata": {},
   "outputs": [],
   "source": [
    "import os\n",
    "import pandas as pd\n",
    "import random\n",
    "import numpy as np\n",
    "import matplotlib.pyplot as plt\n",
    "import os\n",
    "import itertools\n",
    "from typing import List, Tuple\n",
    "import string\n",
    "from os import walk\n",
    "from sklearn.metrics import accuracy_score,f1_score,precision_score,recall_score,matthews_corrcoef,roc_curve, auc\n",
    "import seaborn as sns"
   ]
  },
  {
   "cell_type": "code",
   "execution_count": 78,
   "id": "30eb21b8",
   "metadata": {},
   "outputs": [],
   "source": [
    "def getCmaps(file,path):\n",
    "    gt=np.load(path+'gt/'+file)\n",
    "    esm=np.load(path+'esm_cmaps/'+file)\n",
    "    alpha=np.load(path+'alpha_fold_cmaps/'+file)\n",
    "    pcons=np.load(path+'pconsc4/'+file)\n",
    "    pcons=pcons >= 0.5\n",
    "    pcons=np.multiply(pcons,1)\n",
    "    #rand=np.load(path+'esm/'+file)\n",
    "    rand=np.load(path+'rand_cmaps/'+file)\n",
    "    return gt,alpha,esm,pcons,rand"
   ]
  },
  {
   "cell_type": "code",
   "execution_count": 4,
   "id": "97787ede",
   "metadata": {},
   "outputs": [],
   "source": [
    "filenames = next(walk('/Users/rohan/Desktop/contact_map_analysis/kiba_cmaps/gt/'), (None, None, []))[2]"
   ]
  },
  {
   "cell_type": "code",
   "execution_count": 7,
   "id": "6952f9bc",
   "metadata": {},
   "outputs": [
    {
     "name": "stdout",
     "output_type": "stream",
     "text": [
      "P11802.npy\n",
      "(285, 285) (303, 303) (303, 303) (303, 303) (303, 303)\n",
      "P19784.npy\n",
      "(350, 350) (350, 350) (350, 350) (350, 350) (350, 350)\n",
      "P24941.npy\n",
      "(298, 298) (298, 298) (298, 298) (298, 298) (298, 298)\n",
      "P50750.npy\n",
      "(372, 372) (372, 372) (372, 372) (372, 372) (372, 372)\n",
      "Q16539.npy\n",
      "(360, 360) (360, 360) (360, 360) (360, 360) (360, 360)\n",
      "P67870.npy\n",
      "(193, 193) (215, 215) (215, 215) (215, 215) (215, 215)\n",
      "P06493.npy\n",
      "(297, 297) (297, 297) (297, 297) (297, 297) (297, 297)\n",
      "P17612.npy\n",
      "(345, 345) (351, 351) (351, 351) (351, 351) (351, 351)\n",
      "P68400.npy\n",
      "(390, 390) (391, 391) (391, 391) (391, 391) (391, 391)\n",
      "P28482.npy\n",
      "(356, 356) (360, 360) (360, 360) (360, 360) (360, 360)\n",
      "Q00535.npy\n",
      "(292, 292) (292, 292) (292, 292) (292, 292) (292, 292)\n",
      "P27361.npy\n",
      "(366, 366) (379, 379) (379, 379) (379, 379) (379, 379)\n",
      "O43741.npy\n",
      "(272, 272) (272, 272) (272, 272) (272, 272) (272, 272)\n"
     ]
    }
   ],
   "source": [
    "path='/Users/rohan/Desktop/contact_map_analysis/kiba_cmaps/'\n",
    "for file in filenames:\n",
    "        # Load the contact maps\n",
    "        print(file)\n",
    "        gt,alpha,esm,pcons,rand=getCmaps(file,path)\n",
    "        print(gt.shape,alpha.shape,esm.shape,pcons.shape,rand.shape)"
   ]
  },
  {
   "cell_type": "code",
   "execution_count": 8,
   "id": "45525995",
   "metadata": {},
   "outputs": [],
   "source": [
    "# With no missing residues\n",
    "files= [\n",
    " 'P19784.npy',\n",
    " 'P24941.npy',\n",
    " 'P50750.npy',\n",
    " 'Q16539.npy',\n",
    " 'P06493.npy',\n",
    " 'Q00535.npy',\n",
    " 'O43741.npy']"
   ]
  },
  {
   "cell_type": "code",
   "execution_count": 6,
   "id": "48586f6d",
   "metadata": {},
   "outputs": [],
   "source": [
    "results_path = \"/Users/rohan/Desktop/contact_map_analysis/kiba_cmaps\""
   ]
  },
  {
   "cell_type": "code",
   "execution_count": 12,
   "id": "d631f229",
   "metadata": {},
   "outputs": [],
   "source": [
    "def calculate_metrics(gt, contact_map):\n",
    "    L=gt.shape[0]\n",
    "    gt = gt.flatten()\n",
    "    contact_map = contact_map.flatten()\n",
    "    mcc = matthews_corrcoef(gt, contact_map)\n",
    "    f1=f1_score(gt, contact_map)\n",
    "    precision = precision_score(gt, contact_map, zero_division=0)\n",
    "    \n",
    "    # calculate precision for short, medium, and long-range contacts\n",
    "    contact_type = np.zeros(L * L)\n",
    "    for i in range(L):\n",
    "        for j in range(i+6, min(i+11, L)):\n",
    "            contact_type[i*L+j] = 1  # short-range contact\n",
    "            contact_type[j*L+i] = 1\n",
    "        for j in range(i+12, min(i+23, L)):\n",
    "            contact_type[i*L+j] = 2  # medium-range contact\n",
    "            contact_type[j*L+i] = 2\n",
    "        for j in range(i+24, L):\n",
    "            contact_type[i*L+j] = 3  # long-range contact\n",
    "            contact_type[j*L+i] = 3\n",
    "            \n",
    "    precision_short_range = precision_score(gt[contact_type==1], contact_map[contact_type==1], zero_division=0)\n",
    "    precision_medium_range = precision_score(gt[contact_type==2], contact_map[contact_type==2], zero_division=0)\n",
    "    precision_long_range = precision_score(gt[contact_type==3], contact_map[contact_type==3], zero_division=0)\n",
    "    \n",
    "    return mcc, f1, precision, precision_short_range, precision_medium_range, precision_long_range\n"
   ]
  },
  {
   "cell_type": "code",
   "execution_count": 13,
   "id": "d0f16aa1",
   "metadata": {},
   "outputs": [
    {
     "name": "stdout",
     "output_type": "stream",
     "text": [
      "Method: alpha_fold_cmaps\n",
      "Average mcc compared to groundtruth: 0.16957204874640203\n",
      "Average f1 compared to groundtruth: 0.17480790706268604\n",
      "Average precision compared to groundtruth: 0.17480790706268604\n",
      "Average precision_short_range  compared to groundtruth: 0.06788035313380937\n",
      "Average precision_medium_range compared to groundtruth: 0.0585458857872651\n",
      "Average precision_long_range compared to groundtruth: 0.03849761496607007\n",
      "Method: esm_cmaps\n",
      "Average mcc compared to groundtruth: 0.042573500075522484\n",
      "Average f1 compared to groundtruth: 0.04848364777221727\n",
      "Average precision compared to groundtruth: 0.03832089259471668\n",
      "Average precision_short_range  compared to groundtruth: 0.03646190410776579\n",
      "Average precision_medium_range compared to groundtruth: 0.035303557762696204\n",
      "Average precision_long_range compared to groundtruth: 0.022580879361191804\n",
      "Method: pconsc4\n",
      "Average mcc compared to groundtruth: 0.22796002784766406\n",
      "Average f1 compared to groundtruth: 0.19457459262326657\n",
      "Average precision compared to groundtruth: 0.1241764060747949\n",
      "Average precision_short_range  compared to groundtruth: 0.0764283986376035\n",
      "Average precision_medium_range compared to groundtruth: 0.048492763682637094\n",
      "Average precision_long_range compared to groundtruth: 0.050942480606567954\n",
      "Method: rand_cmaps\n",
      "Average mcc compared to groundtruth: 0.005009358752536475\n",
      "Average f1 compared to groundtruth: 0.0075861407964729\n",
      "Average precision compared to groundtruth: 0.009183673469387754\n",
      "Average precision_short_range  compared to groundtruth: 0.009920634920634922\n",
      "Average precision_medium_range compared to groundtruth: 0.006349206349206349\n",
      "Average precision_long_range compared to groundtruth: 0.0\n"
     ]
    }
   ],
   "source": [
    "for method in [\"alpha_fold_cmaps\", \"esm_cmaps\", \"pconsc4\", \"rand_cmaps\"]:\n",
    "    method_true_contacts = []\n",
    "    method_mcc = []\n",
    "    method_f1 = []\n",
    "    method_precision = []\n",
    "    method_precision_short_range = []\n",
    "    method_precision_medium_range = []\n",
    "    method_precision_long_range = []\n",
    "    for file in files:\n",
    "        # Load the contact maps\n",
    "        gt = np.load(results_path + \"/gt/\" + file)\n",
    "        contact_map = np.load(results_path + \"/\" + method + \"/\" + file)\n",
    "        if method==\"pconsc4\":\n",
    "            contact_map =contact_map  >= 0.5\n",
    "            contact_map =np.multiply(contact_map,1)\n",
    "        min_shape = min(gt.shape, contact_map.shape)\n",
    "        gt = gt[:min_shape[0], :min_shape[1]]\n",
    "        contact_map= contact_map[:min_shape[0], :min_shape[1]]\n",
    "\n",
    "        # Compare the contact maps\n",
    "        true_contacts = np.sum(np.logical_and(contact_map == 1, gt == 1)) / np.sum(gt == 1)\n",
    "        mcc,f1, precision, precision_short_range, precision_medium_range, precision_long_range = calculate_metrics(gt,contact_map)\n",
    "\n",
    "        method_true_contacts.append(true_contacts)\n",
    "        method_mcc.append(mcc)\n",
    "        method_f1.append(f1)\n",
    "        method_precision.append(precision)\n",
    "        method_precision_short_range.append(precision_short_range)\n",
    "        method_precision_medium_range.append(precision_medium_range)\n",
    "        method_precision_long_range.append(precision_long_range)\n",
    "\n",
    "    # Calculate the average percentage of true contacts and false contacts across all examples for the current method\n",
    "    avg_true_contacts = np.mean(method_true_contacts)\n",
    "    avg_mcc = np.mean(method_mcc)\n",
    "    avg_f1=np.mean(method_f1)\n",
    "    avg_precision = np.mean(method_precision)\n",
    "    avg_precision_short_range = np.mean(method_precision_short_range)\n",
    "    avg_precision_medium_range = np.mean(method_precision_medium_range)\n",
    "    avg_precision_long_range = np.mean(method_precision_long_range)\n",
    "\n",
    "    # Print the results\n",
    "    print(\"Method:\", method)\n",
    "    print(\"Average mcc compared to groundtruth:\", avg_mcc) \n",
    "    print(\"Average f1 compared to groundtruth:\", avg_f1)  \n",
    "    print(\"Average precision compared to groundtruth:\",avg_precision)\n",
    "    print(\"Average precision_short_range  compared to groundtruth:\",avg_precision_short_range)\n",
    "    print(\"Average precision_medium_range compared to groundtruth:\", avg_precision_medium_range)\n",
    "    print(\"Average precision_long_range compared to groundtruth:\", avg_precision_long_range)\n"
   ]
  },
  {
   "cell_type": "code",
   "execution_count": 73,
   "id": "9b825c16",
   "metadata": {},
   "outputs": [],
   "source": [
    "sns.set(font_scale =2,style=\"white\")"
   ]
  },
  {
   "cell_type": "code",
   "execution_count": 76,
   "id": "14ffea34",
   "metadata": {},
   "outputs": [
    {
     "data": {
      "image/png": "[encoded data removed]",
      "text/plain": [
       "<Figure size 1440x576 with 1 Axes>"
      ]
     },
     "metadata": {},
     "output_type": "display_data"
    }
   ],
   "source": [
    "fig = plt.figure(figsize=(20, 8))\n",
    "# plot bar plot\n",
    "sns.set(font_scale=2, style=\"whitegrid\")\n",
    "ax=sns.barplot(x='metric', y='score', hue='method', data=df_melted, palette='Set2', ci='sd')\n",
    "\n",
    "# set legend\n",
    "plt.legend(loc='upper right', bbox_to_anchor=(1, 1))\n",
    "\n",
    "# set axis labels and title\n",
    "plt.xlabel('Metrics')\n",
    "plt.ylabel('Score')\n",
    "\n",
    "# show plot\n",
    "plt.show()\n",
    "\n",
    "final_result_path='/Users/rohan/Desktop/contact_map_analysis/kiba_cmaps/'+'Fig3BA.pdf'\n",
    "final_result_path1='/Users/rohan/Desktop/contact_map_analysis/kiba_cmaps/'+'Fig3BA.png'\n",
    "\n",
    "fig.savefig(final_result_path, dpi=300, bbox_inches='tight')\n",
    "fig.savefig(final_result_path1, dpi=300, bbox_inches='tight')\n"
   ]
  },
  {
   "cell_type": "code",
   "execution_count": null,
   "id": "76cee2ba",
   "metadata": {},
   "outputs": [],
   "source": []
  }
 ],
 "metadata": {
  "kernelspec": {
   "display_name": "Python 3 (ipykernel)",
   "language": "python",
   "name": "python3"
  },
  "language_info": {
   "codemirror_mode": {
    "name": "ipython",
    "version": 3
   },
   "file_extension": ".py",
   "mimetype": "text/x-python",
   "name": "python",
   "nbconvert_exporter": "python",
   "pygments_lexer": "ipython3",
   "version": "3.8.12"
  }
 },
 "nbformat": 4,
 "nbformat_minor": 5
}
