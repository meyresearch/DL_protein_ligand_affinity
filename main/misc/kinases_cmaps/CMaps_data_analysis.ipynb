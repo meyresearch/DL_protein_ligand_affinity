{
 "cells": [
  {
   "cell_type": "code",
   "execution_count": 1,
   "id": "efd70205",
   "metadata": {},
   "outputs": [],
   "source": [
    "import os\n",
    "import pandas as pd\n",
    "import random\n",
    "import numpy as np\n",
    "import matplotlib.pyplot as plt\n",
    "import pickle,urllib\n",
    "import ast,json,pickle\n",
    "import Bio.PDB.PDBList as biopy\n",
    "import PCN\n",
    "import glob\n",
    "# import networkx as nx\n",
    "# import MDAnalysis as mda"
   ]
  },
  {
   "cell_type": "code",
   "execution_count": 2,
   "id": "b7a8bb00",
   "metadata": {},
   "outputs": [
    {
     "data": {
      "text/plain": [
       "'/Users/rohan/Desktop/DTI_setup'"
      ]
     },
     "execution_count": 2,
     "metadata": {},
     "output_type": "execute_result"
    }
   ],
   "source": [
    "pwd"
   ]
  },
  {
   "cell_type": "code",
   "execution_count": 3,
   "id": "c762da02",
   "metadata": {},
   "outputs": [
    {
     "data": {
      "text/plain": [
       "dict_keys(['AAK1', 'ACVR1', 'ACVR1B', 'ACVR2A', 'ACVR2B', 'ACVRL1', 'ADCK3', 'ADCK4', 'AKT1', 'AKT2', 'AKT3', 'AMPK-alpha1', 'AMPK-alpha2', 'ANKK1', 'ARK5', 'AURKA', 'AURKB', 'AURKC', 'AXL', 'BLK', 'BMPR1A', 'BMPR1B', 'BMX', 'BRAF', 'BRAF(V600E)', 'BRK', 'BRSK1', 'BRSK2', 'BTK', 'CAMK1', 'CAMK1D', 'CAMK1G', 'CAMK2A', 'CAMK2B', 'CAMK2D', 'CAMK2G', 'CAMK4', 'CAMKK1', 'CAMKK2', 'CASK', 'CDC2L1', 'CDC2L2', 'CDC2L5', 'CDK11', 'CDK2', 'CDK3', 'CDK4-cyclinD1', 'CDK4-cyclinD3', 'CDK5', 'CDK7', 'CDK8', 'CDK9', 'CDKL1', 'CDKL2', 'CDKL3', 'CHEK1', 'CHEK2', 'CLK1', 'CLK2', 'CLK3', 'CLK4', 'CSF1R', 'CSK', 'CSNK1A1', 'CSNK1A1L', 'CSNK1D', 'CSNK1E', 'CSNK1G1', 'CSNK1G2', 'CSNK1G3', 'CSNK2A1', 'CSNK2A2', 'CTK', 'DAPK2', 'DAPK3', 'DCAMKL1', 'DCAMKL2', 'DCAMKL3', 'DDR1', 'DDR2', 'DLK', 'DMPK', 'DRAK1', 'DRAK2', 'DYRK1A', 'DYRK1B', 'DYRK2', 'EIF2AK1', 'EPHA1', 'EPHA2', 'EPHA3', 'EPHA4', 'EPHA5', 'EPHA6', 'EPHA7', 'EPHA8', 'EPHB1', 'EPHB2', 'EPHB3', 'EPHB4', 'EPHB6', 'ERK1', 'ERK2', 'ERK3', 'ERK4', 'ERK5', 'ERK8', 'ERN1', 'FER', 'FES', 'FGFR1', 'FGFR2', 'FGFR3', 'FGFR3(G697C)', 'FGFR4', 'FGR', 'FLT3', 'FLT3(D835H)', 'FLT3(D835Y)', 'FLT3(ITD)', 'FLT3(K663Q)', 'FLT3(N841I)', 'FLT3(R834Q)', 'FRK', 'FYN', 'GRK1', 'GRK4', 'GRK7', 'GSK3A', 'GSK3B', 'HCK', 'HIPK4', 'HPK1', 'HUNK', 'ICK', 'IKK-alpha', 'IKK-beta', 'IKK-epsilon', 'IRAK1', 'IRAK3', 'IRAK4', 'ITK', 'JNK1', 'JNK2', 'JNK3', 'KIT', 'KIT(A829P)', 'KIT(D816H)', 'KIT(D816V)', 'KIT(L576P)', 'KIT(V559D)', 'KIT(V559D-T670I)', 'KIT(V559D-V654A)', 'LCK', 'LIMK1', 'LIMK2', 'LKB1', 'LOK', 'LTK', 'LYN', 'LZK', 'MAK', 'MAP3K2', 'MAP3K3', 'MAP4K2', 'MAP4K3', 'MAP4K5', 'MAPKAPK2', 'MAPKAPK5', 'MARK1', 'MARK2', 'MARK3', 'MARK4', 'MEK1', 'MEK2', 'MEK3', 'MEK4', 'MEK5', 'MEK6', 'MELK', 'MERTK', 'MKK7', 'MKNK1', 'MKNK2', 'MLCK', 'MLK1', 'MLK2', 'MLK3', 'MST1', 'MST2', 'MST3', 'MST4', 'MUSK', 'MYLK2', 'MYLK4', 'NDR1', 'NDR2', 'NEK11', 'NEK2', 'NEK3', 'NEK4', 'NEK5', 'NEK6', 'NEK7', 'NEK9', 'NIM1', 'NLK', 'OSR1', 'p38-alpha', 'p38-beta', 'p38-delta', 'p38-gamma', 'PAK1', 'PAK2', 'PAK3', 'PAK4', 'PAK6', 'PAK7', 'PCTK1', 'PCTK2', 'PCTK3', 'PDGFRB', 'PDPK1', 'PFCDPK1(Pfalciparum)', 'PFPK5(Pfalciparum)', 'PFTAIRE2', 'PFTK1', 'PHKG1', 'PHKG2', 'PIK4CB', 'PIM1', 'PIM2', 'PIM3', 'PIP5K1A', 'PIP5K1C', 'PIP5K2B', 'PIP5K2C', 'PKAC-alpha', 'PKAC-beta', 'PKMYT1', 'PKN1', 'PKN2', 'PKNB(Mtuberculosis)', 'PLK1', 'PLK2', 'PLK3', 'PLK4', 'PRKCD', 'PRKCE', 'PRKCH', 'PRKCI', 'PRKCQ', 'PRKD1', 'PRKD2', 'PRKD3', 'PRKG1', 'PRKG2', 'PRKR', 'PRKX', 'PRP4', 'PYK2', 'RAF1', 'RET', 'RET(M918T)', 'RET(V804L)', 'RET(V804M)', 'RIOK1', 'RIOK2', 'RIOK3', 'RIPK1', 'RIPK2', 'RIPK4', 'RIPK5', 'ROCK2', 'RPS6KA4(KinDom.1-N-terminal)', 'RPS6KA4(KinDom.2-C-terminal)', 'RPS6KA5(KinDom.1-N-terminal)', 'RPS6KA5(KinDom.2-C-terminal)', 'RSK1(KinDom.1-N-terminal)', 'RSK1(KinDom.2-C-terminal)', 'RSK2(KinDom.1-N-terminal)', 'RSK3(KinDom.1-N-terminal)', 'RSK3(KinDom.2-C-terminal)', 'RSK4(KinDom.1-N-terminal)', 'RSK4(KinDom.2-C-terminal)', 'S6K1', 'SBK1', 'SgK110', 'SGK3', 'SIK', 'SIK2', 'SNARK', 'SNRK', 'SRC', 'SRMS', 'SRPK1', 'SRPK2', 'SRPK3', 'STK16', 'STK33', 'STK35', 'STK39', 'SYK', 'TAK1', 'TAOK1', 'TAOK3', 'TBK1', 'TEC', 'TESK1', 'TGFBR1', 'TGFBR2', 'TLK1', 'TLK2', 'TNK1', 'TNNI3K', 'TRKA', 'TRKB', 'TRKC', 'TSSK1B', 'TTK', 'TXK', 'TYRO3', 'ULK3', 'VRK2', 'WEE1', 'WEE2', 'YANK1', 'YANK2', 'YANK3', 'YES', 'YSK1', 'ZAK', 'ZAP70'])"
      ]
     },
     "execution_count": 3,
     "metadata": {},
     "output_type": "execute_result"
    }
   ],
   "source": [
    "file=open(\"/Users/rohan/Desktop/DTI_setup/data/davis/proteins_updated.txt\",\"r\")\n",
    "contents=file.read()\n",
    "protein_data=ast.literal_eval(contents)\n",
    "protein_data.keys()"
   ]
  },
  {
   "cell_type": "code",
   "execution_count": 4,
   "id": "46a76c23",
   "metadata": {},
   "outputs": [
    {
     "data": {
      "text/plain": [
       "dict_keys(['O00141', 'O00311', 'O00418', 'O00444', 'O14757', 'O14920', 'O14965', 'O15075', 'O15111', 'O15264', 'O15530', 'O43293', 'O43741', 'O43781', 'O60285', 'O75582', 'O75676', 'O94806', 'O96013', 'O96017', 'P04049', 'P04629', 'P05129', 'P05771', 'P06239', 'P06241', 'P06493', 'P07332', 'P07333', 'P07947', 'P07948', 'P08631', 'P09769', 'P10721', 'P11309', 'P11362', 'P11802', 'P12931', 'P15056', 'P15735', 'P16591', 'P17252', 'P17612', 'P19784', 'P21802', 'P22455', 'P22607', 'P22612', 'P22694', 'P23443', 'P24723', 'P24941', 'P27361', 'P27448', 'P28482', 'P29317', 'P29376', 'P30291', 'P30530', 'P31749', 'P31751', 'P34947', 'P36507', 'P36888', 'P41240', 'P41279', 'P41743', 'P42679', 'P42685', 'P43403', 'P43405', 'P45983', 'P45984', 'P48729', 'P48730', 'P49137', 'P49336', 'P49674', 'P49759', 'P49760', 'P49840', 'P49841', 'P50613', 'P50750', 'P51451', 'P51617', 'P51812', 'P51813', 'P51817', 'P51955', 'P51957', 'P52564', 'P53350', 'P53667', 'P53778', 'P53779', 'P54619', 'P54646', 'P54760', 'P67870', 'P68400', 'P78368', 'P78527', 'Q00534', 'Q00535', 'Q02156', 'Q02750', 'Q02779', 'Q04759', 'Q04771', 'Q05513', 'Q05655', 'Q06187', 'Q06418', 'Q08881', 'Q12851', 'Q12866', 'Q13131', 'Q13153', 'Q13177', 'Q13188', 'Q13237', 'Q13554', 'Q13555', 'Q13557', 'Q13627', 'Q13882', 'Q13976', 'Q14012', 'Q14164', 'Q14289', 'Q14680', 'Q15078', 'Q15118', 'Q15139', 'Q15418', 'Q15759', 'Q16288', 'Q16512', 'Q16513', 'Q16539', 'Q16566', 'Q16584', 'Q16620', 'Q16644', 'Q7KZI7', 'Q7L7X3', 'Q86V86', 'Q8IU85', 'Q8IW41', 'Q8NE63', 'Q8TDC3', 'Q96GD4', 'Q96KB5', 'Q96L34', 'Q96PF2', 'Q96RR4', 'Q96SB4', 'Q9BUB5', 'Q9BWU1', 'Q9BXA7', 'Q9BZL6', 'Q9H0K1', 'Q9H3Y6', 'Q9H4B4', 'Q9HAZ1', 'Q9HBH9', 'Q9HBY8', 'Q9HC98', 'Q9HCP0', 'Q9NR20', 'Q9NWZ3', 'Q9NYL2', 'Q9P1W9', 'Q9P289', 'Q9UBE8', 'Q9UBF8', 'Q9UBS0', 'Q9UEE5', 'Q9UGI9', 'Q9UGJ0', 'Q9UHD2', 'Q9UQM7', 'Q9Y243', 'Q9Y463', 'Q9Y478', 'Q9Y4K4', 'Q9Y6M4'])"
      ]
     },
     "execution_count": 4,
     "metadata": {},
     "output_type": "execute_result"
    }
   ],
   "source": [
    "file=open(\"/Users/rohan/Desktop/DTI_setup/data/kiba/proteins_updated.txt\",\"r\")\n",
    "contents=file.read()\n",
    "protein_data1=ast.literal_eval(contents)\n",
    "protein_data1.keys()"
   ]
  },
  {
   "cell_type": "code",
   "execution_count": 5,
   "id": "24ec7f87",
   "metadata": {},
   "outputs": [],
   "source": [
    "del protein_data1['P78527']\n"
   ]
  },
  {
   "cell_type": "code",
   "execution_count": null,
   "id": "424f013a",
   "metadata": {},
   "outputs": [],
   "source": [
    "with open(\"KIBA_UniprotID_PDB.txt\") as f:\n",
    "    data = f.read()\n",
    "\n",
    "print(data)\n",
    "      \n",
    "# reconstructing the data as a dictionary\n",
    "# d = ast.literal_eval(data)\n",
    "  \n",
    "# print(\"Data type after reconstruction : \", type(d))\n",
    "# print(d)"
   ]
  },
  {
   "cell_type": "code",
   "execution_count": null,
   "id": "61849832",
   "metadata": {},
   "outputs": [],
   "source": [
    "data"
   ]
  },
  {
   "cell_type": "code",
   "execution_count": null,
   "id": "68fe803e",
   "metadata": {},
   "outputs": [],
   "source": [
    "with open(\"KIBA_UniprotID_PDB.txt\",'rb') as f:\n",
    "    data1 = f.read()\n",
    "\n",
    "print(data1)"
   ]
  },
  {
   "cell_type": "code",
   "execution_count": null,
   "id": "9a1cf215",
   "metadata": {},
   "outputs": [],
   "source": [
    "import requests\n",
    "import time\n",
    "\n",
    "uniprot_ids = list(protein_data1.keys())\n",
    "\n",
    "url = 'https://www.uniprot.org/uniprot/'\n",
    "\n",
    "protein_to_pdb = {}\n",
    "for protein in uniprot_ids:\n",
    "    params = {\n",
    "        'format': 'tab',\n",
    "        'query': 'ID:{}'.format(protein),\n",
    "        'columns': 'id,database(PDB)'\n",
    "    }\n",
    "    contact = \"\"  # Please set your email address here.\n",
    "    headers = {'User-Agent': 'Python {}'.format(contact)}\n",
    "    r = requests.get(url, params=params, headers=headers)\n",
    "\n",
    "    protein_to_pdb[protein] = str(r.text).splitlines()[-1].split('\\t')[-1].split(';')\n",
    "    protein_to_pdb[protein].pop(-1)\n",
    "    time.sleep(1)  # be respectful and don't overwhelm the server with requests\n",
    "\n",
    "print(protein_to_pdb)"
   ]
  },
  {
   "cell_type": "code",
   "execution_count": null,
   "id": "cc5dbe95",
   "metadata": {},
   "outputs": [],
   "source": [
    "type(data)"
   ]
  },
  {
   "cell_type": "code",
   "execution_count": null,
   "id": "085dd596",
   "metadata": {},
   "outputs": [],
   "source": [
    "js = json.loads(data1)\n",
    "  \n",
    "print(\"Data type after reconstruction : \", type(js))\n",
    "print(js)"
   ]
  },
  {
   "cell_type": "code",
   "execution_count": null,
   "id": "e370ead5",
   "metadata": {},
   "outputs": [],
   "source": [
    "d = pickle.loads(data1)\n",
    "  \n",
    "print(\"Data type after reconstruction : \", type(d))\n",
    "print(d)\n"
   ]
  },
  {
   "cell_type": "code",
   "execution_count": null,
   "id": "8716de2c",
   "metadata": {},
   "outputs": [],
   "source": []
  },
  {
   "cell_type": "code",
   "execution_count": null,
   "id": "51a91a16",
   "metadata": {},
   "outputs": [],
   "source": [
    "a = {}\n",
    "with open(\"KIBA_UniprotID_PDB.txt\") as f:\n",
    "    for line in f:\n",
    "        print(line)\n",
    "        (k, v) = line.split()\n",
    "        a[int(k)] = v\n",
    "print(a)\n"
   ]
  },
  {
   "cell_type": "code",
   "execution_count": null,
   "id": "08749fd2",
   "metadata": {},
   "outputs": [],
   "source": [
    "data"
   ]
  },
  {
   "cell_type": "code",
   "execution_count": null,
   "id": "476758a7",
   "metadata": {},
   "outputs": [],
   "source": [
    "type(d)"
   ]
  },
  {
   "cell_type": "code",
   "execution_count": null,
   "id": "c78df2ce",
   "metadata": {},
   "outputs": [],
   "source": [
    "data"
   ]
  },
  {
   "cell_type": "code",
   "execution_count": null,
   "id": "b0ff499f",
   "metadata": {},
   "outputs": [],
   "source": [
    "contents"
   ]
  },
  {
   "cell_type": "code",
   "execution_count": null,
   "id": "52615d4c",
   "metadata": {},
   "outputs": [],
   "source": [
    "protein_data1"
   ]
  },
  {
   "cell_type": "code",
   "execution_count": null,
   "id": "8c323531",
   "metadata": {},
   "outputs": [],
   "source": [
    "len(protein_data1)"
   ]
  },
  {
   "cell_type": "code",
   "execution_count": null,
   "id": "6ef6f4aa",
   "metadata": {},
   "outputs": [],
   "source": [
    "for i,j in protein_data1.items():\n",
    "    print(i,len(j))"
   ]
  },
  {
   "cell_type": "code",
   "execution_count": null,
   "id": "f18dcfe8",
   "metadata": {},
   "outputs": [],
   "source": [
    "for i,j in protein_data.items():\n",
    "    print(i,len(j))"
   ]
  },
  {
   "cell_type": "code",
   "execution_count": 26,
   "id": "1682283c",
   "metadata": {},
   "outputs": [
    {
     "name": "stdout",
     "output_type": "stream",
     "text": [
      "Q00535\n",
      "Q00534\n",
      "P11309\n",
      "P49841\n",
      "P06493\n",
      "P49137\n",
      "P49759\n",
      "P42345\n",
      "P54619\n",
      "P49760\n",
      "P43405\n",
      "Q9Y478\n",
      "P11802\n",
      "P24941\n",
      "P27361\n",
      "P52564\n",
      "P34947\n",
      "Q9P1W9\n",
      "Q02750\n",
      "O43781\n",
      "P67870\n",
      "Q16539\n",
      "Q9UHD2\n",
      "P17612\n",
      "P48729\n",
      "O00329\n",
      "P50750\n",
      "P53779\n",
      "P28482\n",
      "P53778\n",
      "Q15759\n",
      "P50613\n",
      "P54646\n",
      "P68400\n",
      "P42336\n",
      "O43741\n",
      "P15056\n",
      "P78527\n",
      "P19784\n"
     ]
    }
   ],
   "source": [
    "import numpy as np\n",
    "from os import listdir\n",
    "lis=[]\n",
    "directory = '/Users/rohan/Desktop/contact_map_analysis/cmaps/kiba_struct/'\n",
    "for filename in os.listdir(directory):\n",
    "    f = os.path.join(directory, filename)\n",
    "    print(filename)\n",
    "    lis.append(str(f))"
   ]
  },
  {
   "cell_type": "code",
   "execution_count": null,
   "id": "2b3f825b",
   "metadata": {},
   "outputs": [],
   "source": [
    "a = np.arange(12).reshape((3, 4))\n",
    "a"
   ]
  },
  {
   "cell_type": "code",
   "execution_count": null,
   "id": "95d8d673",
   "metadata": {},
   "outputs": [],
   "source": [
    "a[1:3,1:3]"
   ]
  },
  {
   "cell_type": "code",
   "execution_count": null,
   "id": "fc222807",
   "metadata": {},
   "outputs": [],
   "source": [
    "3/2-0.5"
   ]
  },
  {
   "cell_type": "code",
   "execution_count": null,
   "id": "de2c9e5b",
   "metadata": {},
   "outputs": [],
   "source": [
    "for key, value in protein_data1.items():\n",
    "    print(key)\n",
    "    directory='/Users/rohan/Desktop/contact_map_analysis/cmaps/kiba_proteins/'+str(key)+\"/\"\n",
    "    for filename in os.listdir(directory):\n",
    "            f = os.path.join(directory, filename)\n",
    "            print(filename,type(filename))"
   ]
  },
  {
   "cell_type": "code",
   "execution_count": 27,
   "id": "5be4b3ee",
   "metadata": {},
   "outputs": [
    {
     "name": "stdout",
     "output_type": "stream",
     "text": [
      "P17252\n",
      "Q00535\n",
      "P51617\n",
      "P04049\n",
      "Q96KB5\n",
      "P04629\n",
      "Q15078\n",
      "Q00534\n",
      "P11362\n",
      "P11309\n",
      "Q13177\n",
      "P49841\n",
      "Q96GD4\n",
      "Q9HAZ1\n",
      "P78368\n",
      "P43403\n",
      "P06493\n",
      "Q9Y243\n",
      "Q16584\n",
      "P49137\n",
      "P49759\n",
      "Q14012\n",
      "Q13237\n",
      "O15111\n",
      "Q16512\n",
      "Q14289\n",
      "Q96RR4\n",
      "P54619\n",
      "Q96SB4\n",
      "P06239\n",
      "P49760\n",
      "Q14680\n",
      "P43405\n",
      "P22607\n",
      "Q9NYL2\n",
      "Q9Y478\n",
      "Q16513\n",
      "P51955\n",
      "Q9UBF8\n",
      "Q9UQM7\n",
      "P11802\n",
      "Q13882\n",
      "P06241\n",
      "P24941\n",
      "P07333\n",
      "P27361\n",
      "P52564\n",
      "P21802\n",
      "P34947\n",
      "Q9P1W9\n",
      "Q02750\n",
      "O43781\n",
      "P67870\n",
      "Q16539\n",
      "Q9H4B4\n",
      "Q9UHD2\n",
      "P24723\n",
      "O96013\n",
      "P45984\n",
      "Q9BUB5\n",
      "Q15118\n",
      "P07332\n",
      "P45983\n",
      "Q04771\n",
      "P36507\n",
      "Q96L34\n",
      "P29317\n",
      "Q06418\n",
      "P05129\n",
      "O94806\n",
      "P08631\n",
      "P17612\n",
      "P31749\n",
      "P05771\n",
      "Q13554\n",
      "Q9BZL6\n",
      "P48729\n",
      "Q13153\n",
      "Q9NWZ3\n",
      "P16591\n",
      "P53350\n",
      "P23443\n",
      "P42679\n",
      "Q13131\n",
      "Q13555\n",
      "Q9HBH9\n",
      "O14965\n",
      "Q12866\n",
      "Q13188\n",
      "O75582\n",
      "O00141\n",
      "Q13976\n",
      "P48730\n",
      "Q15418\n",
      "Q9HCP0\n",
      "P50750\n",
      "O00311\n",
      "P54760\n",
      "P41279\n",
      "P31751\n",
      "P49674\n",
      "P51812\n",
      "P53779\n",
      "P28482\n",
      "Q04759\n",
      "Q9P289\n",
      "O14920\n",
      "P51813\n",
      "P53778\n",
      "O15264\n",
      "P15735\n",
      "P41240\n",
      "P07947\n",
      "P22455\n",
      "Q7KZI7\n",
      "Q15759\n",
      "Q02779\n",
      "P07948\n",
      "P50613\n",
      "P30530\n",
      "Q08881\n",
      "P54646\n",
      "Q06187\n",
      "P53667\n",
      "P49336\n",
      "P68400\n",
      "O15530\n",
      "Q16566\n",
      "O00444\n",
      "P10721\n",
      "Q13627\n",
      "P36888\n",
      "P41743\n",
      "O43741\n",
      "Q02156\n",
      "O96017\n",
      "P15056\n",
      "O00418\n",
      "O43293\n",
      "Q13557\n",
      "O14757\n",
      "Q16288\n",
      "Q16620\n",
      "P29376\n",
      "P19784\n",
      "Q8IU85\n",
      "O15075\n",
      "Q16644\n",
      "Q9Y6M4\n",
      "P30291\n",
      "Q05655\n",
      "P12931\n",
      "P27448\n"
     ]
    }
   ],
   "source": [
    "list1=[]\n",
    "directory='/Users/rohan/Desktop/contact_map_analysis/cmaps/kiba_proteins/'\n",
    "for filename in os.listdir(directory):\n",
    "    print(filename)\n",
    "    list1.append(str(filename))\n"
   ]
  },
  {
   "cell_type": "code",
   "execution_count": 28,
   "id": "cc66f905",
   "metadata": {},
   "outputs": [],
   "source": [
    "list2=list(np.sort(list1))"
   ]
  },
  {
   "cell_type": "code",
   "execution_count": 11,
   "id": "71bad70a",
   "metadata": {},
   "outputs": [
    {
     "data": {
      "text/plain": [
       "151"
      ]
     },
     "execution_count": 11,
     "metadata": {},
     "output_type": "execute_result"
    }
   ],
   "source": [
    "index = list2.index('Q9Y478')\n",
    "index"
   ]
  },
  {
   "cell_type": "code",
   "execution_count": 12,
   "id": "e249e7bb",
   "metadata": {},
   "outputs": [],
   "source": [
    "list3=list2.copy()\n",
    "for i in range(0,len(list3)):\n",
    "    if i<=150:\n",
    "        list3.remove(list2[i])\n",
    "    else:\n",
    "        break"
   ]
  },
  {
   "cell_type": "code",
   "execution_count": 14,
   "id": "1d2b026e",
   "metadata": {},
   "outputs": [
    {
     "data": {
      "text/plain": [
       "2"
      ]
     },
     "execution_count": 14,
     "metadata": {},
     "output_type": "execute_result"
    }
   ],
   "source": [
    "len(list3)"
   ]
  },
  {
   "cell_type": "code",
   "execution_count": 13,
   "id": "86d076bb",
   "metadata": {},
   "outputs": [
    {
     "data": {
      "text/plain": [
       "['O00311',\n",
       " 'P31751',\n",
       " 'Q16620',\n",
       " 'P43405',\n",
       " 'P04049',\n",
       " 'Q13177',\n",
       " 'O00141',\n",
       " 'P05129',\n",
       " 'Q9HBH9',\n",
       " 'O43741',\n",
       " 'Q8IU85',\n",
       " 'P22607',\n",
       " 'P19784',\n",
       " 'P50750',\n",
       " 'Q14289',\n",
       " 'Q15759',\n",
       " 'P51955',\n",
       " 'Q9UHD2',\n",
       " 'P49841',\n",
       " 'P49137',\n",
       " 'P11362',\n",
       " 'P12931',\n",
       " 'Q96RR4',\n",
       " 'Q15078',\n",
       " 'Q05655',\n",
       " 'P30530',\n",
       " 'Q16566',\n",
       " 'P48729',\n",
       " 'P36888',\n",
       " 'O96017',\n",
       " 'P08631',\n",
       " 'P04629',\n",
       " 'Q14680',\n",
       " 'P42679',\n",
       " 'Q13554',\n",
       " 'P52564',\n",
       " 'O14965',\n",
       " 'P53350',\n",
       " 'P54619',\n",
       " 'P49674',\n",
       " 'P67870',\n",
       " 'Q13976',\n",
       " 'P05771',\n",
       " 'P29376',\n",
       " 'Q13627',\n",
       " 'Q9HCP0',\n",
       " 'O43781',\n",
       " 'Q12866',\n",
       " 'P07333',\n",
       " 'Q14012',\n",
       " 'P53667',\n",
       " 'O00444',\n",
       " 'P54646',\n",
       " 'O96013',\n",
       " 'P07948',\n",
       " 'O14920',\n",
       " 'O15111',\n",
       " 'P15056',\n",
       " 'P17252',\n",
       " 'Q13131',\n",
       " 'Q7KZI7',\n",
       " 'Q16539',\n",
       " 'Q02156',\n",
       " 'P49759',\n",
       " 'P68400',\n",
       " 'P15735',\n",
       " 'P06493',\n",
       " 'Q13237',\n",
       " 'P07332',\n",
       " 'Q9P289',\n",
       " 'P51812',\n",
       " 'P17612',\n",
       " 'P16591',\n",
       " 'P11802',\n",
       " 'P11309',\n",
       " 'Q9P1W9',\n",
       " 'P24941',\n",
       " 'Q02750',\n",
       " 'P48730',\n",
       " 'Q16288',\n",
       " 'P31749',\n",
       " 'P50613',\n",
       " 'Q16584',\n",
       " 'P24723',\n",
       " 'Q00535',\n",
       " 'O14757',\n",
       " 'Q9BUB5',\n",
       " 'Q00534',\n",
       " 'Q9HAZ1',\n",
       " 'O15075',\n",
       " 'P34947',\n",
       " 'P29317',\n",
       " 'Q13557',\n",
       " 'Q9NYL2',\n",
       " 'Q04771',\n",
       " 'P06239',\n",
       " 'P51617',\n",
       " 'P21802',\n",
       " 'P49336',\n",
       " 'Q13882',\n",
       " 'P78368',\n",
       " 'Q06418',\n",
       " 'Q96KB5',\n",
       " 'Q13188',\n",
       " 'Q02779',\n",
       " 'Q96L34',\n",
       " 'O94806',\n",
       " 'P51813',\n",
       " 'Q16644',\n",
       " 'O00418',\n",
       " 'P06241',\n",
       " 'P41279',\n",
       " 'Q9H4B4',\n",
       " 'P36507',\n",
       " 'P22455',\n",
       " 'O75582',\n",
       " 'P43403',\n",
       " 'P41240',\n",
       " 'P45984',\n",
       " 'P27361',\n",
       " 'P41743',\n",
       " 'Q16513',\n",
       " 'O15530',\n",
       " 'P28482',\n",
       " 'P45983',\n",
       " 'P27448',\n",
       " 'O43293',\n",
       " 'P53779',\n",
       " 'P49760',\n",
       " 'Q9UQM7',\n",
       " 'Q08881',\n",
       " 'Q15418',\n",
       " 'Q96GD4',\n",
       " 'Q9BZL6',\n",
       " 'Q96SB4',\n",
       " 'Q9Y243',\n",
       " 'P07947',\n",
       " 'P10721',\n",
       " 'Q13555',\n",
       " 'Q9NWZ3',\n",
       " 'Q9UBF8',\n",
       " 'Q06187',\n",
       " 'Q15118',\n",
       " 'P53778',\n",
       " 'P30291',\n",
       " 'Q13153',\n",
       " 'Q16512',\n",
       " 'O15264',\n",
       " 'P23443',\n",
       " 'P54760',\n",
       " 'Q04759']"
      ]
     },
     "execution_count": 13,
     "metadata": {},
     "output_type": "execute_result"
    }
   ],
   "source": [
    "list4=list(set(list2)-set(list3))\n",
    "list4"
   ]
  },
  {
   "cell_type": "code",
   "execution_count": 29,
   "id": "86d35319",
   "metadata": {},
   "outputs": [
    {
     "data": {
      "text/plain": [
       "['O00311',\n",
       " 'P31751',\n",
       " 'Q16620',\n",
       " 'P43405',\n",
       " 'P04049',\n",
       " 'Q13177',\n",
       " 'O00141',\n",
       " 'P05129',\n",
       " 'Q9HBH9',\n",
       " 'O43741',\n",
       " 'Q8IU85',\n",
       " 'P22607',\n",
       " 'P19784',\n",
       " 'P50750',\n",
       " 'Q14289',\n",
       " 'Q15759',\n",
       " 'P51955',\n",
       " 'Q9Y6M4',\n",
       " 'Q9UHD2',\n",
       " 'P49841',\n",
       " 'P49137',\n",
       " 'P11362',\n",
       " 'P12931',\n",
       " 'Q96RR4',\n",
       " 'Q15078',\n",
       " 'Q05655',\n",
       " 'P30530',\n",
       " 'Q16566',\n",
       " 'P48729',\n",
       " 'P36888',\n",
       " 'O96017',\n",
       " 'P08631',\n",
       " 'P04629',\n",
       " 'Q14680',\n",
       " 'P42679',\n",
       " 'Q13554',\n",
       " 'P52564',\n",
       " 'O14965',\n",
       " 'P53350',\n",
       " 'P67870',\n",
       " 'P54619',\n",
       " 'P49674',\n",
       " 'Q13976',\n",
       " 'P05771',\n",
       " 'P29376',\n",
       " 'Q13627',\n",
       " 'Q9HCP0',\n",
       " 'O43781',\n",
       " 'Q12866',\n",
       " 'P07333',\n",
       " 'Q14012',\n",
       " 'P53667',\n",
       " 'O00444',\n",
       " 'P54646',\n",
       " 'O96013',\n",
       " 'P07948',\n",
       " 'O14920',\n",
       " 'O15111',\n",
       " 'P15056',\n",
       " 'P17252',\n",
       " 'Q13131',\n",
       " 'Q7KZI7',\n",
       " 'Q16539',\n",
       " 'Q02156',\n",
       " 'P49759',\n",
       " 'P68400',\n",
       " 'P15735',\n",
       " 'P06493',\n",
       " 'Q13237',\n",
       " 'P07332',\n",
       " 'Q9P289',\n",
       " 'P51812',\n",
       " 'P17612',\n",
       " 'P16591',\n",
       " 'P11802',\n",
       " 'P11309',\n",
       " 'Q9P1W9',\n",
       " 'P24941',\n",
       " 'Q02750',\n",
       " 'P48730',\n",
       " 'Q16288',\n",
       " 'P31749',\n",
       " 'P50613',\n",
       " 'Q16584',\n",
       " 'P24723',\n",
       " 'Q00535',\n",
       " 'O14757',\n",
       " 'Q9BUB5',\n",
       " 'Q9Y478',\n",
       " 'Q00534',\n",
       " 'Q9HAZ1',\n",
       " 'O15075',\n",
       " 'P34947',\n",
       " 'P29317',\n",
       " 'Q13557',\n",
       " 'Q9NYL2',\n",
       " 'Q04771',\n",
       " 'P06239',\n",
       " 'P51617',\n",
       " 'P21802',\n",
       " 'P49336',\n",
       " 'Q13882',\n",
       " 'P78368',\n",
       " 'Q06418',\n",
       " 'Q96KB5',\n",
       " 'Q13188',\n",
       " 'Q02779',\n",
       " 'Q96L34',\n",
       " 'O94806',\n",
       " 'P51813',\n",
       " 'Q16644',\n",
       " 'O00418',\n",
       " 'P06241',\n",
       " 'P41279',\n",
       " 'Q9H4B4',\n",
       " 'P36507',\n",
       " 'P22455',\n",
       " 'O75582',\n",
       " 'P43403',\n",
       " 'P41240',\n",
       " 'P45984',\n",
       " 'P27361',\n",
       " 'P41743',\n",
       " 'Q16513',\n",
       " 'O15530',\n",
       " 'P28482',\n",
       " 'P45983',\n",
       " 'P27448',\n",
       " 'O43293',\n",
       " 'P53779',\n",
       " 'P49760',\n",
       " 'Q9UQM7',\n",
       " 'Q08881',\n",
       " 'Q15418',\n",
       " 'Q96GD4',\n",
       " 'Q9BZL6',\n",
       " 'Q96SB4',\n",
       " 'Q9Y243',\n",
       " 'P07947',\n",
       " 'P10721',\n",
       " 'Q13555',\n",
       " 'Q9NWZ3',\n",
       " 'Q9UBF8',\n",
       " 'Q06187',\n",
       " 'Q15118',\n",
       " 'P53778',\n",
       " 'P30291',\n",
       " 'Q13153',\n",
       " 'Q16512',\n",
       " 'O15264',\n",
       " 'P23443',\n",
       " 'P54760',\n",
       " 'Q04759']"
      ]
     },
     "execution_count": 29,
     "metadata": {},
     "output_type": "execute_result"
    }
   ],
   "source": [
    "list4=list(set(list2)-set(lis))\n",
    "list4"
   ]
  },
  {
   "cell_type": "code",
   "execution_count": 15,
   "id": "2f0d5c9e",
   "metadata": {},
   "outputs": [
    {
     "data": {
      "text/plain": [
       "151"
      ]
     },
     "execution_count": 15,
     "metadata": {},
     "output_type": "execute_result"
    }
   ],
   "source": [
    "len(list4)"
   ]
  },
  {
   "cell_type": "code",
   "execution_count": 30,
   "id": "6e5e7fbe",
   "metadata": {},
   "outputs": [],
   "source": [
    "protein_data_upd=protein_data1.copy()"
   ]
  },
  {
   "cell_type": "code",
   "execution_count": 31,
   "id": "fdebbb84",
   "metadata": {},
   "outputs": [],
   "source": [
    "for i in list4:\n",
    "    del protein_data_upd[i]"
   ]
  },
  {
   "cell_type": "code",
   "execution_count": 33,
   "id": "0e1d3c7f",
   "metadata": {},
   "outputs": [
    {
     "data": {
      "text/plain": [
       "34"
      ]
     },
     "execution_count": 33,
     "metadata": {},
     "output_type": "execute_result"
    }
   ],
   "source": [
    "len(protein_data_upd)"
   ]
  },
  {
   "cell_type": "code",
   "execution_count": 76,
   "id": "7d7cff93",
   "metadata": {
    "scrolled": false
   },
   "outputs": [
    {
     "name": "stdout",
     "output_type": "stream",
     "text": [
      "True\n",
      "3GC9.pdb <class 'str'>\n",
      "364 335\n",
      "3GC8.pdb <class 'str'>\n"
     ]
    },
    {
     "name": "stderr",
     "output_type": "stream",
     "text": [
      "/Users/rohan/opt/anaconda3/envs/mldd/lib/python3.8/site-packages/MDAnalysis/topology/guessers.py:146: UserWarning: Failed to guess the mass for the following atom types: NI\n",
      "  warnings.warn(\"Failed to guess the mass for the following atom types: {}\".format(atom_type))\n"
     ]
    },
    {
     "name": "stdout",
     "output_type": "stream",
     "text": [
      "364 347\n",
      "{'3GC9.pdb': 29, '3GC8.pdb': 17}\n",
      "17\n",
      "3GC8.pdb\n",
      "Not within the range of the given sequence\n"
     ]
    }
   ],
   "source": [
    "for key, value in protein_data_upd.items():\n",
    "\n",
    "    key=\"Q15759\"\n",
    "    directory='/Users/rohan/Desktop/contact_map_analysis/cmaps/kiba_struct/'+str(key)+\"/\"\n",
    "    #directory='/Users/rohan/Desktop/contact_map_analysis/cmaps/kiba_proteins/'+str(key)+\"/\"\n",
    "    isExist = os.path.exists(directory)\n",
    "    esm_path='/Users/rohan/Desktop/contact_map_analysis/cmaps/esm_cmaps/'+key+'.npy'\n",
    "    esm_cmap=np.load(esm_path)\n",
    "    seqlen=np.shape(esm_cmap)[0]\n",
    "    print(isExist)\n",
    "    if isExist:      \n",
    "        #seqlen=len(value)\n",
    "        dic_npy={}\n",
    "        for filename in os.listdir(directory):\n",
    "            f = os.path.join(directory, filename)\n",
    "            print(filename,type(filename))\n",
    "            pdb_cmap=getContactMap_fromPDB(f)\n",
    "            pdb_shape=np.shape(pdb_cmap)[0]\n",
    "            print(seqlen,pdb_shape)\n",
    "            dic_npy[filename]=abs(seqlen-pdb_shape)\n",
    "        print(dic_npy)\n",
    "        print(min(dic_npy.values()))\n",
    "        print(min(dic_npy, key=dic_npy.get))\n",
    "        diff=min(dic_npy.values())\n",
    "        if min(dic_npy.values())<=15:\n",
    "            print(\"Within the range of the given sequence\")\n",
    "            f = os.path.join(directory, min(dic_npy, key=dic_npy.get))\n",
    "            cmap=getContactMap_fromPDB(f)\n",
    "            #cmap=np.load(f)\n",
    "            print(np.shape(cmap))\n",
    "            if diff%2==0:\n",
    "                val=int(diff/2)\n",
    "                cmap1=cmap[val:seqlen-val,val:seqlen-val]\n",
    "            else:\n",
    "                val_beg=int(diff/2-0.5)\n",
    "                val_end=int(diff/2+0.5)\n",
    "                cmap1=cmap[val_beg:seqlen-val_end,val_beg:seqlen-val_end]\n",
    "            cmap_save='/Users/rohan/Desktop/DTI_setup/kiba_cmaps/'+str(key)+'.npy'\n",
    "            np.save(cmap_save,cmap1)\n",
    "        else:\n",
    "            print(\"Not within the range of the given sequence\")\n",
    "        break"
   ]
  },
  {
   "cell_type": "code",
   "execution_count": 70,
   "id": "94e79715",
   "metadata": {},
   "outputs": [
    {
     "name": "stdout",
     "output_type": "stream",
     "text": [
      "/Users/rohan/Desktop/contact_map_analysis/cmaps/kiba_struct/Q00535\n",
      "False False\n",
      "/Users/rohan/Desktop/contact_map_analysis/cmaps/kiba_struct/Q00534\n",
      "False False\n",
      "/Users/rohan/Desktop/contact_map_analysis/cmaps/kiba_struct/P11309\n",
      "False False\n",
      "/Users/rohan/Desktop/contact_map_analysis/cmaps/kiba_struct/P49841\n",
      "False False\n",
      "/Users/rohan/Desktop/contact_map_analysis/cmaps/kiba_struct/P06493\n",
      "False False\n",
      "/Users/rohan/Desktop/contact_map_analysis/cmaps/kiba_struct/P49137\n",
      "False False\n",
      "/Users/rohan/Desktop/contact_map_analysis/cmaps/kiba_struct/P49759\n",
      "False False\n",
      "/Users/rohan/Desktop/contact_map_analysis/cmaps/kiba_struct/P42345\n",
      "False False\n",
      "/Users/rohan/Desktop/contact_map_analysis/cmaps/kiba_struct/P54619\n",
      "False False\n",
      "/Users/rohan/Desktop/contact_map_analysis/cmaps/kiba_struct/P49760\n",
      "False False\n",
      "/Users/rohan/Desktop/contact_map_analysis/cmaps/kiba_struct/P43405\n",
      "False False\n",
      "/Users/rohan/Desktop/contact_map_analysis/cmaps/kiba_struct/Q9Y478\n",
      "False False\n",
      "/Users/rohan/Desktop/contact_map_analysis/cmaps/kiba_struct/P11802\n",
      "False False\n",
      "/Users/rohan/Desktop/contact_map_analysis/cmaps/kiba_struct/P24941\n",
      "False False\n",
      "/Users/rohan/Desktop/contact_map_analysis/cmaps/kiba_struct/P27361\n",
      "False False\n",
      "/Users/rohan/Desktop/contact_map_analysis/cmaps/kiba_struct/P52564\n",
      "False False\n",
      "/Users/rohan/Desktop/contact_map_analysis/cmaps/kiba_struct/P34947\n",
      "False False\n",
      "/Users/rohan/Desktop/contact_map_analysis/cmaps/kiba_struct/Q9P1W9\n",
      "False False\n",
      "/Users/rohan/Desktop/contact_map_analysis/cmaps/kiba_struct/Q02750\n",
      "False False\n",
      "/Users/rohan/Desktop/contact_map_analysis/cmaps/kiba_struct/O43781\n",
      "False False\n",
      "/Users/rohan/Desktop/contact_map_analysis/cmaps/kiba_struct/P67870\n",
      "False False\n",
      "/Users/rohan/Desktop/contact_map_analysis/cmaps/kiba_struct/Q16539\n",
      "False False\n",
      "/Users/rohan/Desktop/contact_map_analysis/cmaps/kiba_struct/Q9UHD2\n",
      "False False\n",
      "/Users/rohan/Desktop/contact_map_analysis/cmaps/kiba_struct/P17612\n",
      "False False\n",
      "/Users/rohan/Desktop/contact_map_analysis/cmaps/kiba_struct/P48729\n",
      "False False\n",
      "/Users/rohan/Desktop/contact_map_analysis/cmaps/kiba_struct/O00329\n",
      "False False\n",
      "/Users/rohan/Desktop/contact_map_analysis/cmaps/kiba_struct/P50750\n",
      "False False\n",
      "/Users/rohan/Desktop/contact_map_analysis/cmaps/kiba_struct/P53779\n",
      "False False\n",
      "/Users/rohan/Desktop/contact_map_analysis/cmaps/kiba_struct/P28482\n",
      "False False\n",
      "/Users/rohan/Desktop/contact_map_analysis/cmaps/kiba_struct/P53778\n",
      "False False\n",
      "/Users/rohan/Desktop/contact_map_analysis/cmaps/kiba_struct/Q15759\n",
      "False False\n",
      "/Users/rohan/Desktop/contact_map_analysis/cmaps/kiba_struct/P50613\n",
      "False False\n",
      "/Users/rohan/Desktop/contact_map_analysis/cmaps/kiba_struct/P54646\n",
      "False False\n",
      "/Users/rohan/Desktop/contact_map_analysis/cmaps/kiba_struct/P68400\n",
      "False False\n",
      "/Users/rohan/Desktop/contact_map_analysis/cmaps/kiba_struct/P42336\n",
      "False False\n",
      "/Users/rohan/Desktop/contact_map_analysis/cmaps/kiba_struct/O43741\n",
      "False False\n",
      "/Users/rohan/Desktop/contact_map_analysis/cmaps/kiba_struct/P15056\n",
      "False False\n",
      "/Users/rohan/Desktop/contact_map_analysis/cmaps/kiba_struct/P78527\n",
      "False False\n",
      "/Users/rohan/Desktop/contact_map_analysis/cmaps/kiba_struct/P19784\n",
      "False False\n"
     ]
    }
   ],
   "source": [
    "for key in lis:\n",
    "    print(key)\n",
    "#     key=\"P48729\"\n",
    "    directory='/Users/rohan/Desktop/contact_map_analysis/cmaps/kiba_struct/'+str(key)+\"/\"\n",
    "    #directory='/Users/rohan/Desktop/contact_map_analysis/cmaps/kiba_proteins/'+str(key)+\"/\"\n",
    "    isExist = os.path.exists(directory)\n",
    "    esm_path='/Users/rohan/Desktop/contact_map_analysis/cmaps/esm_cmaps/'+key+'.npy'\n",
    "    isExist1=os.path.exists(esm_path)\n",
    "    print(isExist,isExist1)\n",
    "    if isExist and isExist1:   \n",
    "        esm_cmap=np.load(esm_path)\n",
    "        seqlen=np.shape(esm_cmap)[0]\n",
    "        #seqlen=len(value)\n",
    "        dic_npy={}\n",
    "        for filename in os.listdir(directory):\n",
    "            f = os.path.join(directory, filename)\n",
    "            print(filename,type(filename))\n",
    "            pdb_cmap=getContactMap_fromPDB(f)\n",
    "            pdb_shape=np.shape(pdb_cmap)[0]\n",
    "            print(seqlen,pdb_shape)\n",
    "            dic_npy[filename]=abs(seqlen-pdb_shape)\n",
    "        print(dic_npy)\n",
    "        print(min(dic_npy.values()))\n",
    "        print(min(dic_npy, key=dic_npy.get))\n",
    "        diff=min(dic_npy.values())\n",
    "        if min(dic_npy.values())<=12:\n",
    "            print(\"Within the range of the given sequence\")\n",
    "            f = os.path.join(directory, min(dic_npy, key=dic_npy.get))\n",
    "            cmap=getContactMap_fromPDB(f)\n",
    "            #cmap=np.load(f)\n",
    "            print(np.shape(cmap))\n",
    "            if diff%2==0:\n",
    "                val=int(diff/2)\n",
    "                cmap1=cmap[val:seqlen-val,val:seqlen-val]\n",
    "            else:\n",
    "                val_beg=int(diff/2-0.5)\n",
    "                val_end=int(diff/2+0.5)\n",
    "                cmap1=cmap[val_beg:seqlen-val_end,val_beg:seqlen-val_end]\n",
    "            cmap_save='/Users/rohan/Desktop/DTI_setup/kiba_cmaps/'+str(key)+'.npy'\n",
    "            np.save(cmap_save,cmap1)\n",
    "        else:\n",
    "            print(\"Not within the range of the given sequence\")\n",
    "        break"
   ]
  },
  {
   "cell_type": "code",
   "execution_count": null,
   "id": "1b2e5d42",
   "metadata": {},
   "outputs": [],
   "source": []
  },
  {
   "cell_type": "code",
   "execution_count": null,
   "id": "9c444265",
   "metadata": {},
   "outputs": [],
   "source": [
    "import PCN"
   ]
  },
  {
   "cell_type": "code",
   "execution_count": null,
   "id": "b6bf4b53",
   "metadata": {},
   "outputs": [],
   "source": [
    "for key, value in protein_data1.items():\n",
    "    \n",
    "    for i in value:\n",
    "        if len(value)!=0:\n",
    "            save_dir='/Users/rohan/Desktop/contact_map_analysis/cmaps/kiba_proteins_cmaps1/'+key+\"/\"\n",
    "            save_dir1='/Users/rohan/Desktop/contact_map_analysis/cmaps/kiba_cmaps1/'\n",
    "            print(save_dir)\n",
    "            isExist = os.path.exists(save_dir)\n",
    "            print(isExist)\n",
    "            if not isExist:\n",
    "                os.makedirs(save_dir)\n",
    "            pdb_id=str(i).lower()\n",
    "            pdb_id=pdb_id[:len(pdb_id)-4]\n",
    "            PDB_file='/Users/rohan/Desktop/contact_map_analysis/cmaps/kiba_proteins/'+key+'/pdb'+pdb_id+'.ent'\n",
    "            #PDB_file = f'//Users/rohan/Desktop/contact_map_analysis/data_main/pdb_files/pdb{pdb_id}.ent'\n",
    "            if os.path.exists(PDB_file):\n",
    "                pdb_cmap=getContactMap_fromPDB(PDB_file)\n",
    "                pdb_path=save_dir+pdb_id+'.npy'\n",
    "                np.save(pdb_path,pdb_cmap)\n",
    "                pdb_shape=np.shape(pdb_cmap)[0]\n",
    "                print(\"pdb_esm\")\n",
    "                print(pdb_shape,esm_shape)\n",
    "                if pdb_shape==esm_shape:\n",
    "                    cmap_save=save_dir1+key[:len(key)]+'.npy'\n",
    "                    np.save(cmap_save,pdb_cmap)\n",
    "                    continue\n",
    "   \n",
    "            \n",
    "        else:\n",
    "            continue\n"
   ]
  },
  {
   "cell_type": "code",
   "execution_count": null,
   "id": "b30a7361",
   "metadata": {},
   "outputs": [],
   "source": []
  },
  {
   "cell_type": "code",
   "execution_count": null,
   "id": "435f9566",
   "metadata": {},
   "outputs": [],
   "source": [
    "pdb_davis=list(protein_data.keys())"
   ]
  },
  {
   "cell_type": "code",
   "execution_count": null,
   "id": "4412b203",
   "metadata": {},
   "outputs": [],
   "source": [
    "pwd"
   ]
  },
  {
   "cell_type": "code",
   "execution_count": null,
   "id": "fb11a037",
   "metadata": {},
   "outputs": [],
   "source": [
    "pdblist = biopy()\n",
    "PDB_IDs =pdb_davis\n",
    "counter = 1\n",
    "for PDB_ID in PDB_IDs:\n",
    "    PDB_IDs_lower = str(PDB_ID).lower()\n",
    "    print(f'At entry {counter} out of {len(PDB_IDs)} entries.')\n",
    "    pdblist.retrieve_pdb_file(pdb_code = PDB_ID, file_format = 'pdb', pdir = '/Users/rohan/Desktop/DTI_setup/data/davis/structures/')\n",
    "    counter += 1"
   ]
  },
  {
   "cell_type": "code",
   "execution_count": null,
   "id": "45b71480",
   "metadata": {},
   "outputs": [],
   "source": []
  },
  {
   "cell_type": "code",
   "execution_count": null,
   "id": "83a79b34",
   "metadata": {},
   "outputs": [],
   "source": []
  },
  {
   "cell_type": "code",
   "execution_count": 20,
   "id": "fa56145b",
   "metadata": {},
   "outputs": [],
   "source": [
    "def getContactMap_fromPDB(PDB_file):\n",
    "    \"\"\" Takes a PDB file and creates a PCN from the alpha carbons and computes distance matrix \n",
    "    followed by generating a contact map with 8.0 Å threshold value.\"\"\"\n",
    "    protein_contact_network = PCN.PCN(PDB_file)\n",
    "    C_alphas = protein_contact_network.get_C_alphas()\n",
    "    chain_length = protein_contact_network.get_chain_length(C_alphas)\n",
    "    if protein_contact_network.get_link_lengths(C_alphas) is not None:\n",
    "        distance_matrix=protein_contact_network.get_link_lengths(C_alphas)\n",
    "        contact_map = distance_matrix > 0\n",
    "        contact_map=np.multiply(contact_map,1)\n",
    "        return contact_map\n",
    "    else:\n",
    "        return None"
   ]
  },
  {
   "cell_type": "code",
   "execution_count": null,
   "id": "816e8fb5",
   "metadata": {},
   "outputs": [],
   "source": []
  },
  {
   "cell_type": "code",
   "execution_count": null,
   "id": "662855c6",
   "metadata": {},
   "outputs": [],
   "source": []
  },
  {
   "cell_type": "code",
   "execution_count": null,
   "id": "b36458f3",
   "metadata": {},
   "outputs": [],
   "source": []
  },
  {
   "cell_type": "code",
   "execution_count": null,
   "id": "0244e9d6",
   "metadata": {},
   "outputs": [],
   "source": []
  },
  {
   "cell_type": "code",
   "execution_count": null,
   "id": "f291b7d8",
   "metadata": {},
   "outputs": [],
   "source": []
  },
  {
   "cell_type": "code",
   "execution_count": null,
   "id": "3347d747",
   "metadata": {},
   "outputs": [],
   "source": [
    "import requests\n",
    "import time\n",
    "\n",
    "uniprot_ids = ['P26378', 'O35433', 'Q02910']\n",
    "\n",
    "url = 'https://www.uniprot.org/uniprot/'\n",
    "\n",
    "protein_to_pdb = {}\n",
    "for protein in uniprot_ids:\n",
    "    params = {\n",
    "        'format': 'tab',\n",
    "        'query': 'ID:{}'.format(protein),\n",
    "        'columns': 'id,database(PDB)'\n",
    "    }\n",
    "    contact = \"\"  # Please set your email address here.\n",
    "    headers = {'User-Agent': 'Python {}'.format(contact)}\n",
    "    r = requests.get(url, params=params, headers=headers)\n",
    "\n",
    "    protein_to_pdb[protein] = str(r.text).splitlines()[-1].split('\\t')[-1].split(';')\n",
    "    protein_to_pdb[protein].pop(-1)\n",
    "    time.sleep(1)  # be respectful and don't overwhelm the server with requests\n",
    "\n",
    "print(protein_to_pdb)"
   ]
  },
  {
   "cell_type": "code",
   "execution_count": null,
   "id": "a55c4457",
   "metadata": {},
   "outputs": [],
   "source": []
  }
 ],
 "metadata": {
  "kernelspec": {
   "display_name": "Python 3 (ipykernel)",
   "language": "python",
   "name": "python3"
  },
  "language_info": {
   "codemirror_mode": {
    "name": "ipython",
    "version": 3
   },
   "file_extension": ".py",
   "mimetype": "text/x-python",
   "name": "python",
   "nbconvert_exporter": "python",
   "pygments_lexer": "ipython3",
   "version": "3.8.12"
  }
 },
 "nbformat": 4,
 "nbformat_minor": 5
}
